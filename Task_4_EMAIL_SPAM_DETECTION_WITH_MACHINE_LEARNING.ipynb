{
  "nbformat": 4,
  "nbformat_minor": 0,
  "metadata": {
    "colab": {
      "provenance": []
    },
    "kernelspec": {
      "name": "python3",
      "display_name": "Python 3"
    },
    "language_info": {
      "name": "python"
    }
  },
  "cells": [
    {
      "cell_type": "markdown",
      "source": [
        "![1642532597169.jpeg](data:image/jpeg;base64,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)"
      ],
      "metadata": {
        "id": "uvjFoYtIZ37y"
      }
    },
    {
      "cell_type": "markdown",
      "source": [
        "### **Name :** <font color = #5a5a5a>Harshal Prakash Margaj<font/>\n",
        "### **Task 4 :** <font color = #5a5a5a>EMAIL SPAM DETECTION WITH MACHINE LEARNING<font/>\n",
        "### **Description :** <font color = #5a5a5a>We’ve all been the recipient of spam emails before. Spam mail, or junk mail, is a type of email that is sent to a massive number of users at one time, frequently containing cryptic messages, scams, or most dangerously, phishing content. In this Project, use Python to build an email spam detector. Then, use machine learning to train the spam detector to recognize and classify emails into spam and non-spam. Let’s get started! Download dataset from [here](https://www.kaggle.com/datasets/uciml/sms-spam-collection-dataset)<font/>"
      ],
      "metadata": {
        "id": "WYAl7FMWEXyh"
      }
    },
    {
      "cell_type": "markdown",
      "source": [
        "# **Importing Libraries**"
      ],
      "metadata": {
        "id": "InzEWmSmLsaZ"
      }
    },
    {
      "cell_type": "code",
      "source": [
        "import numpy as np\n",
        "import pandas as pd\n",
        "import nltk\n",
        "from nltk.corpus import stopwords\n",
        "import string"
      ],
      "metadata": {
        "id": "A_BU6c7LLVia"
      },
      "execution_count": 59,
      "outputs": []
    },
    {
      "cell_type": "code",
      "source": [
        "class color:\n",
        "   GREEN = '\\033[92m'  \n",
        "   RED = '\\033[91m'\n",
        "   BOLD = '\\033[1m'\n",
        "   END = '\\033[0m'"
      ],
      "metadata": {
        "id": "2c0NUmkoLM6b"
      },
      "execution_count": 60,
      "outputs": []
    },
    {
      "cell_type": "markdown",
      "source": [
        "# **Load the dataset**"
      ],
      "metadata": {
        "id": "9F_Ak0XGkQIX"
      }
    },
    {
      "cell_type": "code",
      "source": [
        "df = pd.read_csv('/content/spam.csv', encoding = \"ISO-8859-1\")\n",
        "df.head() # To see first five rows"
      ],
      "metadata": {
        "id": "BP40jkINM_t3",
        "colab": {
          "base_uri": "https://localhost:8080/",
          "height": 228
        },
        "outputId": "6dcf5ac7-4e73-4d3d-b683-1565dc217ad8"
      },
      "execution_count": 61,
      "outputs": [
        {
          "output_type": "execute_result",
          "data": {
            "text/plain": [
              "     v1                                                 v2 Unnamed: 2  \\\n",
              "0   ham  Go until jurong point, crazy.. Available only ...        NaN   \n",
              "1   ham                      Ok lar... Joking wif u oni...        NaN   \n",
              "2  spam  Free entry in 2 a wkly comp to win FA Cup fina...        NaN   \n",
              "3   ham  U dun say so early hor... U c already then say...        NaN   \n",
              "4   ham  Nah I don't think he goes to usf, he lives aro...        NaN   \n",
              "\n",
              "  Unnamed: 3 Unnamed: 4  \n",
              "0        NaN        NaN  \n",
              "1        NaN        NaN  \n",
              "2        NaN        NaN  \n",
              "3        NaN        NaN  \n",
              "4        NaN        NaN  "
            ],
            "text/html": [
              "\n",
              "  <div id=\"df-509a4fc5-4603-47ed-9c70-6499dbb12e97\">\n",
              "    <div class=\"colab-df-container\">\n",
              "      <div>\n",
              "<style scoped>\n",
              "    .dataframe tbody tr th:only-of-type {\n",
              "        vertical-align: middle;\n",
              "    }\n",
              "\n",
              "    .dataframe tbody tr th {\n",
              "        vertical-align: top;\n",
              "    }\n",
              "\n",
              "    .dataframe thead th {\n",
              "        text-align: right;\n",
              "    }\n",
              "</style>\n",
              "<table border=\"1\" class=\"dataframe\">\n",
              "  <thead>\n",
              "    <tr style=\"text-align: right;\">\n",
              "      <th></th>\n",
              "      <th>v1</th>\n",
              "      <th>v2</th>\n",
              "      <th>Unnamed: 2</th>\n",
              "      <th>Unnamed: 3</th>\n",
              "      <th>Unnamed: 4</th>\n",
              "    </tr>\n",
              "  </thead>\n",
              "  <tbody>\n",
              "    <tr>\n",
              "      <th>0</th>\n",
              "      <td>ham</td>\n",
              "      <td>Go until jurong point, crazy.. Available only ...</td>\n",
              "      <td>NaN</td>\n",
              "      <td>NaN</td>\n",
              "      <td>NaN</td>\n",
              "    </tr>\n",
              "    <tr>\n",
              "      <th>1</th>\n",
              "      <td>ham</td>\n",
              "      <td>Ok lar... Joking wif u oni...</td>\n",
              "      <td>NaN</td>\n",
              "      <td>NaN</td>\n",
              "      <td>NaN</td>\n",
              "    </tr>\n",
              "    <tr>\n",
              "      <th>2</th>\n",
              "      <td>spam</td>\n",
              "      <td>Free entry in 2 a wkly comp to win FA Cup fina...</td>\n",
              "      <td>NaN</td>\n",
              "      <td>NaN</td>\n",
              "      <td>NaN</td>\n",
              "    </tr>\n",
              "    <tr>\n",
              "      <th>3</th>\n",
              "      <td>ham</td>\n",
              "      <td>U dun say so early hor... U c already then say...</td>\n",
              "      <td>NaN</td>\n",
              "      <td>NaN</td>\n",
              "      <td>NaN</td>\n",
              "    </tr>\n",
              "    <tr>\n",
              "      <th>4</th>\n",
              "      <td>ham</td>\n",
              "      <td>Nah I don't think he goes to usf, he lives aro...</td>\n",
              "      <td>NaN</td>\n",
              "      <td>NaN</td>\n",
              "      <td>NaN</td>\n",
              "    </tr>\n",
              "  </tbody>\n",
              "</table>\n",
              "</div>\n",
              "      <button class=\"colab-df-convert\" onclick=\"convertToInteractive('df-509a4fc5-4603-47ed-9c70-6499dbb12e97')\"\n",
              "              title=\"Convert this dataframe to an interactive table.\"\n",
              "              style=\"display:none;\">\n",
              "        \n",
              "  <svg xmlns=\"http://www.w3.org/2000/svg\" height=\"24px\"viewBox=\"0 0 24 24\"\n",
              "       width=\"24px\">\n",
              "    <path d=\"M0 0h24v24H0V0z\" fill=\"none\"/>\n",
              "    <path d=\"M18.56 5.44l.94 2.06.94-2.06 2.06-.94-2.06-.94-.94-2.06-.94 2.06-2.06.94zm-11 1L8.5 8.5l.94-2.06 2.06-.94-2.06-.94L8.5 2.5l-.94 2.06-2.06.94zm10 10l.94 2.06.94-2.06 2.06-.94-2.06-.94-.94-2.06-.94 2.06-2.06.94z\"/><path d=\"M17.41 7.96l-1.37-1.37c-.4-.4-.92-.59-1.43-.59-.52 0-1.04.2-1.43.59L10.3 9.45l-7.72 7.72c-.78.78-.78 2.05 0 2.83L4 21.41c.39.39.9.59 1.41.59.51 0 1.02-.2 1.41-.59l7.78-7.78 2.81-2.81c.8-.78.8-2.07 0-2.86zM5.41 20L4 18.59l7.72-7.72 1.47 1.35L5.41 20z\"/>\n",
              "  </svg>\n",
              "      </button>\n",
              "      \n",
              "  <style>\n",
              "    .colab-df-container {\n",
              "      display:flex;\n",
              "      flex-wrap:wrap;\n",
              "      gap: 12px;\n",
              "    }\n",
              "\n",
              "    .colab-df-convert {\n",
              "      background-color: #E8F0FE;\n",
              "      border: none;\n",
              "      border-radius: 50%;\n",
              "      cursor: pointer;\n",
              "      display: none;\n",
              "      fill: #1967D2;\n",
              "      height: 32px;\n",
              "      padding: 0 0 0 0;\n",
              "      width: 32px;\n",
              "    }\n",
              "\n",
              "    .colab-df-convert:hover {\n",
              "      background-color: #E2EBFA;\n",
              "      box-shadow: 0px 1px 2px rgba(60, 64, 67, 0.3), 0px 1px 3px 1px rgba(60, 64, 67, 0.15);\n",
              "      fill: #174EA6;\n",
              "    }\n",
              "\n",
              "    [theme=dark] .colab-df-convert {\n",
              "      background-color: #3B4455;\n",
              "      fill: #D2E3FC;\n",
              "    }\n",
              "\n",
              "    [theme=dark] .colab-df-convert:hover {\n",
              "      background-color: #434B5C;\n",
              "      box-shadow: 0px 1px 3px 1px rgba(0, 0, 0, 0.15);\n",
              "      filter: drop-shadow(0px 1px 2px rgba(0, 0, 0, 0.3));\n",
              "      fill: #FFFFFF;\n",
              "    }\n",
              "  </style>\n",
              "\n",
              "      <script>\n",
              "        const buttonEl =\n",
              "          document.querySelector('#df-509a4fc5-4603-47ed-9c70-6499dbb12e97 button.colab-df-convert');\n",
              "        buttonEl.style.display =\n",
              "          google.colab.kernel.accessAllowed ? 'block' : 'none';\n",
              "\n",
              "        async function convertToInteractive(key) {\n",
              "          const element = document.querySelector('#df-509a4fc5-4603-47ed-9c70-6499dbb12e97');\n",
              "          const dataTable =\n",
              "            await google.colab.kernel.invokeFunction('convertToInteractive',\n",
              "                                                     [key], {});\n",
              "          if (!dataTable) return;\n",
              "\n",
              "          const docLinkHtml = 'Like what you see? Visit the ' +\n",
              "            '<a target=\"_blank\" href=https://colab.research.google.com/notebooks/data_table.ipynb>data table notebook</a>'\n",
              "            + ' to learn more about interactive tables.';\n",
              "          element.innerHTML = '';\n",
              "          dataTable['output_type'] = 'display_data';\n",
              "          await google.colab.output.renderOutput(dataTable, element);\n",
              "          const docLink = document.createElement('div');\n",
              "          docLink.innerHTML = docLinkHtml;\n",
              "          element.appendChild(docLink);\n",
              "        }\n",
              "      </script>\n",
              "    </div>\n",
              "  </div>\n",
              "  "
            ]
          },
          "metadata": {},
          "execution_count": 61
        }
      ]
    },
    {
      "cell_type": "markdown",
      "source": [
        "### **<font color = #0E86D4>To see last five rows of the dataset<font/>**"
      ],
      "metadata": {
        "id": "kPZttgf7D_Qs"
      }
    },
    {
      "cell_type": "code",
      "source": [
        "df.tail() "
      ],
      "metadata": {
        "colab": {
          "base_uri": "https://localhost:8080/",
          "height": 228
        },
        "id": "6WEcFjU-f_D5",
        "outputId": "74112f87-d8fb-49e8-b825-5cc3cb271bc1"
      },
      "execution_count": 62,
      "outputs": [
        {
          "output_type": "execute_result",
          "data": {
            "text/plain": [
              "        v1                                                 v2 Unnamed: 2  \\\n",
              "5567  spam  This is the 2nd time we have tried 2 contact u...        NaN   \n",
              "5568   ham              Will Ì_ b going to esplanade fr home?        NaN   \n",
              "5569   ham  Pity, * was in mood for that. So...any other s...        NaN   \n",
              "5570   ham  The guy did some bitching but I acted like i'd...        NaN   \n",
              "5571   ham                         Rofl. Its true to its name        NaN   \n",
              "\n",
              "     Unnamed: 3 Unnamed: 4  \n",
              "5567        NaN        NaN  \n",
              "5568        NaN        NaN  \n",
              "5569        NaN        NaN  \n",
              "5570        NaN        NaN  \n",
              "5571        NaN        NaN  "
            ],
            "text/html": [
              "\n",
              "  <div id=\"df-2716d4c2-2066-4741-a127-1836764c6f45\">\n",
              "    <div class=\"colab-df-container\">\n",
              "      <div>\n",
              "<style scoped>\n",
              "    .dataframe tbody tr th:only-of-type {\n",
              "        vertical-align: middle;\n",
              "    }\n",
              "\n",
              "    .dataframe tbody tr th {\n",
              "        vertical-align: top;\n",
              "    }\n",
              "\n",
              "    .dataframe thead th {\n",
              "        text-align: right;\n",
              "    }\n",
              "</style>\n",
              "<table border=\"1\" class=\"dataframe\">\n",
              "  <thead>\n",
              "    <tr style=\"text-align: right;\">\n",
              "      <th></th>\n",
              "      <th>v1</th>\n",
              "      <th>v2</th>\n",
              "      <th>Unnamed: 2</th>\n",
              "      <th>Unnamed: 3</th>\n",
              "      <th>Unnamed: 4</th>\n",
              "    </tr>\n",
              "  </thead>\n",
              "  <tbody>\n",
              "    <tr>\n",
              "      <th>5567</th>\n",
              "      <td>spam</td>\n",
              "      <td>This is the 2nd time we have tried 2 contact u...</td>\n",
              "      <td>NaN</td>\n",
              "      <td>NaN</td>\n",
              "      <td>NaN</td>\n",
              "    </tr>\n",
              "    <tr>\n",
              "      <th>5568</th>\n",
              "      <td>ham</td>\n",
              "      <td>Will Ì_ b going to esplanade fr home?</td>\n",
              "      <td>NaN</td>\n",
              "      <td>NaN</td>\n",
              "      <td>NaN</td>\n",
              "    </tr>\n",
              "    <tr>\n",
              "      <th>5569</th>\n",
              "      <td>ham</td>\n",
              "      <td>Pity, * was in mood for that. So...any other s...</td>\n",
              "      <td>NaN</td>\n",
              "      <td>NaN</td>\n",
              "      <td>NaN</td>\n",
              "    </tr>\n",
              "    <tr>\n",
              "      <th>5570</th>\n",
              "      <td>ham</td>\n",
              "      <td>The guy did some bitching but I acted like i'd...</td>\n",
              "      <td>NaN</td>\n",
              "      <td>NaN</td>\n",
              "      <td>NaN</td>\n",
              "    </tr>\n",
              "    <tr>\n",
              "      <th>5571</th>\n",
              "      <td>ham</td>\n",
              "      <td>Rofl. Its true to its name</td>\n",
              "      <td>NaN</td>\n",
              "      <td>NaN</td>\n",
              "      <td>NaN</td>\n",
              "    </tr>\n",
              "  </tbody>\n",
              "</table>\n",
              "</div>\n",
              "      <button class=\"colab-df-convert\" onclick=\"convertToInteractive('df-2716d4c2-2066-4741-a127-1836764c6f45')\"\n",
              "              title=\"Convert this dataframe to an interactive table.\"\n",
              "              style=\"display:none;\">\n",
              "        \n",
              "  <svg xmlns=\"http://www.w3.org/2000/svg\" height=\"24px\"viewBox=\"0 0 24 24\"\n",
              "       width=\"24px\">\n",
              "    <path d=\"M0 0h24v24H0V0z\" fill=\"none\"/>\n",
              "    <path d=\"M18.56 5.44l.94 2.06.94-2.06 2.06-.94-2.06-.94-.94-2.06-.94 2.06-2.06.94zm-11 1L8.5 8.5l.94-2.06 2.06-.94-2.06-.94L8.5 2.5l-.94 2.06-2.06.94zm10 10l.94 2.06.94-2.06 2.06-.94-2.06-.94-.94-2.06-.94 2.06-2.06.94z\"/><path d=\"M17.41 7.96l-1.37-1.37c-.4-.4-.92-.59-1.43-.59-.52 0-1.04.2-1.43.59L10.3 9.45l-7.72 7.72c-.78.78-.78 2.05 0 2.83L4 21.41c.39.39.9.59 1.41.59.51 0 1.02-.2 1.41-.59l7.78-7.78 2.81-2.81c.8-.78.8-2.07 0-2.86zM5.41 20L4 18.59l7.72-7.72 1.47 1.35L5.41 20z\"/>\n",
              "  </svg>\n",
              "      </button>\n",
              "      \n",
              "  <style>\n",
              "    .colab-df-container {\n",
              "      display:flex;\n",
              "      flex-wrap:wrap;\n",
              "      gap: 12px;\n",
              "    }\n",
              "\n",
              "    .colab-df-convert {\n",
              "      background-color: #E8F0FE;\n",
              "      border: none;\n",
              "      border-radius: 50%;\n",
              "      cursor: pointer;\n",
              "      display: none;\n",
              "      fill: #1967D2;\n",
              "      height: 32px;\n",
              "      padding: 0 0 0 0;\n",
              "      width: 32px;\n",
              "    }\n",
              "\n",
              "    .colab-df-convert:hover {\n",
              "      background-color: #E2EBFA;\n",
              "      box-shadow: 0px 1px 2px rgba(60, 64, 67, 0.3), 0px 1px 3px 1px rgba(60, 64, 67, 0.15);\n",
              "      fill: #174EA6;\n",
              "    }\n",
              "\n",
              "    [theme=dark] .colab-df-convert {\n",
              "      background-color: #3B4455;\n",
              "      fill: #D2E3FC;\n",
              "    }\n",
              "\n",
              "    [theme=dark] .colab-df-convert:hover {\n",
              "      background-color: #434B5C;\n",
              "      box-shadow: 0px 1px 3px 1px rgba(0, 0, 0, 0.15);\n",
              "      filter: drop-shadow(0px 1px 2px rgba(0, 0, 0, 0.3));\n",
              "      fill: #FFFFFF;\n",
              "    }\n",
              "  </style>\n",
              "\n",
              "      <script>\n",
              "        const buttonEl =\n",
              "          document.querySelector('#df-2716d4c2-2066-4741-a127-1836764c6f45 button.colab-df-convert');\n",
              "        buttonEl.style.display =\n",
              "          google.colab.kernel.accessAllowed ? 'block' : 'none';\n",
              "\n",
              "        async function convertToInteractive(key) {\n",
              "          const element = document.querySelector('#df-2716d4c2-2066-4741-a127-1836764c6f45');\n",
              "          const dataTable =\n",
              "            await google.colab.kernel.invokeFunction('convertToInteractive',\n",
              "                                                     [key], {});\n",
              "          if (!dataTable) return;\n",
              "\n",
              "          const docLinkHtml = 'Like what you see? Visit the ' +\n",
              "            '<a target=\"_blank\" href=https://colab.research.google.com/notebooks/data_table.ipynb>data table notebook</a>'\n",
              "            + ' to learn more about interactive tables.';\n",
              "          element.innerHTML = '';\n",
              "          dataTable['output_type'] = 'display_data';\n",
              "          await google.colab.output.renderOutput(dataTable, element);\n",
              "          const docLink = document.createElement('div');\n",
              "          docLink.innerHTML = docLinkHtml;\n",
              "          element.appendChild(docLink);\n",
              "        }\n",
              "      </script>\n",
              "    </div>\n",
              "  </div>\n",
              "  "
            ]
          },
          "metadata": {},
          "execution_count": 62
        }
      ]
    },
    {
      "cell_type": "markdown",
      "source": [
        "### <font color = #0E86D4>**Let's check to see whether this dataset has any null values:**<font/>"
      ],
      "metadata": {
        "id": "mUzjv08LFRUP"
      }
    },
    {
      "cell_type": "code",
      "source": [
        "df.isnull().sum()"
      ],
      "metadata": {
        "colab": {
          "base_uri": "https://localhost:8080/"
        },
        "id": "slclmg48jvB4",
        "outputId": "de3728bd-0006-40d8-967e-fd687da48370"
      },
      "execution_count": 63,
      "outputs": [
        {
          "output_type": "execute_result",
          "data": {
            "text/plain": [
              "v1               0\n",
              "v2               0\n",
              "Unnamed: 2    5522\n",
              "Unnamed: 3    5560\n",
              "Unnamed: 4    5566\n",
              "dtype: int64"
            ]
          },
          "metadata": {},
          "execution_count": 63
        }
      ]
    },
    {
      "cell_type": "markdown",
      "source": [
        "### <font color = #0E86D4>**Remove Null values**<font/>"
      ],
      "metadata": {
        "id": "cbJqvZt3Fedg"
      }
    },
    {
      "cell_type": "code",
      "source": [
        "df = df.drop(columns = ['Unnamed: 2', 'Unnamed: 3', 'Unnamed: 4'])"
      ],
      "metadata": {
        "id": "e15oe-Mykql1"
      },
      "execution_count": 64,
      "outputs": []
    },
    {
      "cell_type": "markdown",
      "source": [
        "### <font color = #0E86D4>**Rename Columns**<font/>"
      ],
      "metadata": {
        "id": "GRVkEr0DFloM"
      }
    },
    {
      "cell_type": "code",
      "source": [
        "df.columns = ['Category', 'Messages']"
      ],
      "metadata": {
        "id": "JECO4YEDW1Bk"
      },
      "execution_count": 65,
      "outputs": []
    },
    {
      "cell_type": "code",
      "source": [
        "df.columns"
      ],
      "metadata": {
        "colab": {
          "base_uri": "https://localhost:8080/"
        },
        "id": "yn5HrFJD0wDJ",
        "outputId": "c7b2f766-ab21-4bab-cf7d-7892dd117aa4"
      },
      "execution_count": 66,
      "outputs": [
        {
          "output_type": "execute_result",
          "data": {
            "text/plain": [
              "Index(['Category', 'Messages'], dtype='object')"
            ]
          },
          "metadata": {},
          "execution_count": 66
        }
      ]
    },
    {
      "cell_type": "markdown",
      "source": [
        "### <font color = #0E86D4>**Let's check again to see whether this dataset has any null values:**<font/>"
      ],
      "metadata": {
        "id": "XfBq6VNbF7lA"
      }
    },
    {
      "cell_type": "code",
      "source": [
        "df.isnull().sum()"
      ],
      "metadata": {
        "colab": {
          "base_uri": "https://localhost:8080/"
        },
        "id": "kL-ZWUhp0ge3",
        "outputId": "86dd2780-b55a-4412-f017-71d39b576e95"
      },
      "execution_count": 67,
      "outputs": [
        {
          "output_type": "execute_result",
          "data": {
            "text/plain": [
              "Category    0\n",
              "Messages    0\n",
              "dtype: int64"
            ]
          },
          "metadata": {},
          "execution_count": 67
        }
      ]
    },
    {
      "cell_type": "markdown",
      "source": [
        "# **Split the dataset into training and testing**"
      ],
      "metadata": {
        "id": "P0Xu9dBAF_5U"
      }
    },
    {
      "cell_type": "code",
      "source": [
        "from sklearn.model_selection import train_test_split\n",
        "\n",
        "x = df['Messages']\n",
        "y = df['Category']\n",
        "\n",
        "x_train, x_test, y_train, y_test = train_test_split(x, y, test_size = 0.2)"
      ],
      "metadata": {
        "id": "JqLYxz9BjuSZ"
      },
      "execution_count": 68,
      "outputs": []
    },
    {
      "cell_type": "code",
      "source": [
        "nltk.download('stopwords')"
      ],
      "metadata": {
        "colab": {
          "base_uri": "https://localhost:8080/"
        },
        "id": "pzFlmwhFqNSj",
        "outputId": "a1851bfc-66c4-4a5d-fcfa-ea38b930eabc"
      },
      "execution_count": 69,
      "outputs": [
        {
          "output_type": "stream",
          "name": "stderr",
          "text": [
            "[nltk_data] Downloading package stopwords to /root/nltk_data...\n",
            "[nltk_data]   Package stopwords is already up-to-date!\n"
          ]
        },
        {
          "output_type": "execute_result",
          "data": {
            "text/plain": [
              "True"
            ]
          },
          "metadata": {},
          "execution_count": 69
        }
      ]
    },
    {
      "cell_type": "markdown",
      "source": [
        "# **Feature Extraction**\n",
        "<font color = #5a5a5a>**Feature extraction refers to the process of transforming raw data into numerical features**<font/>"
      ],
      "metadata": {
        "id": "MLegUJabcKQR"
      }
    },
    {
      "cell_type": "code",
      "source": [
        "def process_text(message):\n",
        "  no_punctuation = [char for char in message if char not in string.punctuation]\n",
        "  no_punctuation = ''.join(no_punctuation)\n",
        "  clean_words = [word for word in no_punctuation.split() if word.lower() not in stopwords.words('english')]\n",
        "  return clean_words"
      ],
      "metadata": {
        "id": "R2EzkWbYvR5f"
      },
      "execution_count": 70,
      "outputs": []
    },
    {
      "cell_type": "markdown",
      "source": [
        "<font color = #5a5a5a>**CountVectorizer convert a collection of text documents to a matrix of token counts**<font/>"
      ],
      "metadata": {
        "id": "T6_PE61OG1gz"
      }
    },
    {
      "cell_type": "code",
      "source": [
        "from sklearn.feature_extraction.text import CountVectorizer\n",
        "\n",
        "vectorizer = CountVectorizer(analyzer = process_text)\n",
        "x_train = vectorizer.fit_transform(x_train)\n",
        "x_test = vectorizer.transform(x_test)"
      ],
      "metadata": {
        "id": "CfGkTcblsSWb"
      },
      "execution_count": 71,
      "outputs": []
    },
    {
      "cell_type": "markdown",
      "source": [
        "# **Training Email Spam Detection Model**"
      ],
      "metadata": {
        "id": "P7tnIRzgHnam"
      }
    },
    {
      "cell_type": "markdown",
      "source": [
        "**<font color = #5a5a5a>To train the model I used Naive Bayes Classifier<font/>**"
      ],
      "metadata": {
        "id": "EnGrUa67cVq6"
      }
    },
    {
      "cell_type": "code",
      "source": [
        "from sklearn.naive_bayes import MultinomialNB\n",
        "\n",
        "model = MultinomialNB()\n",
        "model.fit(x_train, y_train)\n",
        "predictions = model.predict(x_train)\n",
        "print(predictions)\n",
        "print(y_train.values)"
      ],
      "metadata": {
        "id": "5fHZFjYrlS68",
        "colab": {
          "base_uri": "https://localhost:8080/"
        },
        "outputId": "98c96aa7-d643-4bc8-8af3-736930530c96"
      },
      "execution_count": 72,
      "outputs": [
        {
          "output_type": "stream",
          "name": "stdout",
          "text": [
            "['ham' 'ham' 'ham' ... 'ham' 'ham' 'ham']\n",
            "['ham' 'ham' 'ham' ... 'ham' 'ham' 'ham']\n"
          ]
        }
      ]
    },
    {
      "cell_type": "markdown",
      "source": [
        "## <font color = #5a5a5a>**Evaluate the model on the training dataset**<font/>"
      ],
      "metadata": {
        "id": "8ZcTGcUxIjnq"
      }
    },
    {
      "cell_type": "markdown",
      "source": [
        "### <font color = #0E86D4>**Classification Report of training data**<font/>"
      ],
      "metadata": {
        "id": "YDReUjoNI7t4"
      }
    },
    {
      "cell_type": "code",
      "source": [
        "from sklearn.metrics import classification_report, accuracy_score, confusion_matrix\n",
        "\n",
        "pred = model.predict(x_train)\n",
        "print(classification_report(y_train, pred))"
      ],
      "metadata": {
        "colab": {
          "base_uri": "https://localhost:8080/"
        },
        "id": "8XYaRok2mjIT",
        "outputId": "55028ece-7a54-441c-9013-7fb1add1b846"
      },
      "execution_count": 73,
      "outputs": [
        {
          "output_type": "stream",
          "name": "stdout",
          "text": [
            "              precision    recall  f1-score   support\n",
            "\n",
            "         ham       1.00      1.00      1.00      3862\n",
            "        spam       0.98      0.98      0.98       595\n",
            "\n",
            "    accuracy                           0.99      4457\n",
            "   macro avg       0.99      0.99      0.99      4457\n",
            "weighted avg       0.99      0.99      0.99      4457\n",
            "\n"
          ]
        }
      ]
    },
    {
      "cell_type": "markdown",
      "source": [
        "### <font color = #0E86D4>**Confusion Metrix of training data**<font/>"
      ],
      "metadata": {
        "id": "0dmGdU4YJNg3"
      }
    },
    {
      "cell_type": "code",
      "source": [
        "print(confusion_matrix(y_train, pred)) "
      ],
      "metadata": {
        "colab": {
          "base_uri": "https://localhost:8080/"
        },
        "id": "6mqsrfLVtq4s",
        "outputId": "ad9bdc47-be5f-403e-f170-9687fa468413"
      },
      "execution_count": 74,
      "outputs": [
        {
          "output_type": "stream",
          "name": "stdout",
          "text": [
            "[[3849   13]\n",
            " [  12  583]]\n"
          ]
        }
      ]
    },
    {
      "cell_type": "markdown",
      "source": [
        "### <font color = #0E86D4>**Accuracy of training data**<font/>"
      ],
      "metadata": {
        "id": "Wx7h7m6dJ7S8"
      }
    },
    {
      "cell_type": "code",
      "source": [
        "# Accuracy Score\n",
        "print(f\"Accuracy of training dataset is {round(accuracy_score(y_train, pred)* 100, 2)}\")"
      ],
      "metadata": {
        "colab": {
          "base_uri": "https://localhost:8080/"
        },
        "id": "GwKnWkYot-3u",
        "outputId": "6c1fd6da-bd41-4041-c531-28bdfc6bde50"
      },
      "execution_count": 75,
      "outputs": [
        {
          "output_type": "stream",
          "name": "stdout",
          "text": [
            "Accuracy of training dataset is 99.44\n"
          ]
        }
      ]
    },
    {
      "cell_type": "markdown",
      "source": [
        "### <font color = #0E86D4>**Plotting Actual and Predicted Category of training data**<font/>"
      ],
      "metadata": {
        "id": "HlxdI1JXsZJ6"
      }
    },
    {
      "cell_type": "code",
      "source": [
        "from matplotlib import pyplot as plt\n",
        "plt.plot(y_train, pred)\n",
        "plt.xlabel('Actual')\n",
        "plt.ylabel('Predicted')\n",
        "plt.title('Actual vs Predicted')\n",
        "plt.grid()\n",
        "plt.show()"
      ],
      "metadata": {
        "colab": {
          "base_uri": "https://localhost:8080/",
          "height": 316
        },
        "id": "8mO2226hqbF6",
        "outputId": "c041fd01-617e-4b77-db89-2c1a1a20aa29"
      },
      "execution_count": 76,
      "outputs": [
        {
          "output_type": "display_data",
          "data": {
            "text/plain": [
              "<Figure size 432x288 with 1 Axes>"
            ],
            "image/png": "[encoded data removed]"
          },
          "metadata": {
            "needs_background": "light"
          }
        }
      ]
    },
    {
      "cell_type": "markdown",
      "source": [
        "## <font color = #5a5a5a>**Evaluate the model on the testing dataset**<font/>"
      ],
      "metadata": {
        "id": "09pZyKgqIwwG"
      }
    },
    {
      "cell_type": "code",
      "source": [
        "predictions = model.predict(x_test)\n",
        "print(predictions)\n",
        "print(y_test.values)"
      ],
      "metadata": {
        "colab": {
          "base_uri": "https://localhost:8080/"
        },
        "id": "beFQJZ7muajV",
        "outputId": "5b1a1873-26fb-41c1-fb37-63b3eddb2889"
      },
      "execution_count": 77,
      "outputs": [
        {
          "output_type": "stream",
          "name": "stdout",
          "text": [
            "['ham' 'ham' 'ham' ... 'ham' 'spam' 'ham']\n",
            "['ham' 'ham' 'ham' ... 'ham' 'spam' 'ham']\n"
          ]
        }
      ]
    },
    {
      "cell_type": "markdown",
      "source": [
        "### <font color = #0E86D4>**Classification Report of testing data**<font/>"
      ],
      "metadata": {
        "id": "dV0TAQe5Kh-W"
      }
    },
    {
      "cell_type": "code",
      "source": [
        "pred = model.predict(x_test)\n",
        "print(classification_report(y_test, pred))"
      ],
      "metadata": {
        "colab": {
          "base_uri": "https://localhost:8080/"
        },
        "outputId": "f94b63a7-22e0-45a9-d6cd-065205a8214d",
        "id": "KcC3i2zJve7O"
      },
      "execution_count": 78,
      "outputs": [
        {
          "output_type": "stream",
          "name": "stdout",
          "text": [
            "              precision    recall  f1-score   support\n",
            "\n",
            "         ham       0.99      0.99      0.99       963\n",
            "        spam       0.97      0.96      0.96       152\n",
            "\n",
            "    accuracy                           0.99      1115\n",
            "   macro avg       0.98      0.98      0.98      1115\n",
            "weighted avg       0.99      0.99      0.99      1115\n",
            "\n"
          ]
        }
      ]
    },
    {
      "cell_type": "markdown",
      "source": [
        "### <font color = #0E86D4>**Confusion Metrix of training data**<font/>"
      ],
      "metadata": {
        "id": "O7tosWsKKdcR"
      }
    },
    {
      "cell_type": "code",
      "source": [
        "print(confusion_matrix(y_test, pred))"
      ],
      "metadata": {
        "colab": {
          "base_uri": "https://localhost:8080/"
        },
        "outputId": "56f50977-546f-4be4-8450-6767d5ea25c6",
        "id": "OQZ4_A6Xve7R"
      },
      "execution_count": 79,
      "outputs": [
        {
          "output_type": "stream",
          "name": "stdout",
          "text": [
            "[[958   5]\n",
            " [  6 146]]\n"
          ]
        }
      ]
    },
    {
      "cell_type": "markdown",
      "source": [
        "### <font color = #0E86D4>**Accuracy of training data**<font/>"
      ],
      "metadata": {
        "id": "Kuletfv_Kn_8"
      }
    },
    {
      "cell_type": "code",
      "source": [
        "print(f\"Accuracy of testing dataset is {round(accuracy_score(y_test, pred)* 100, 2)}\")"
      ],
      "metadata": {
        "colab": {
          "base_uri": "https://localhost:8080/"
        },
        "outputId": "795dae12-cd3c-428e-abe9-b48949cd2a5e",
        "id": "JVB4OFq0ve7R"
      },
      "execution_count": 80,
      "outputs": [
        {
          "output_type": "stream",
          "name": "stdout",
          "text": [
            "Accuracy of testing dataset is 99.01\n"
          ]
        }
      ]
    },
    {
      "cell_type": "markdown",
      "source": [
        "### <font color = #0E86D4>**Plotting Actual and Predicted Category of testing data**<font/>"
      ],
      "metadata": {
        "id": "9SvI62vit-H4"
      }
    },
    {
      "cell_type": "code",
      "source": [
        "from matplotlib import pyplot as plt\n",
        "plt.plot(y_test, pred)\n",
        "plt.xlabel('Actual')\n",
        "plt.ylabel('Predicted')\n",
        "plt.title('Actual vs Predicted')\n",
        "plt.grid()\n",
        "plt.show()"
      ],
      "metadata": {
        "colab": {
          "base_uri": "https://localhost:8080/",
          "height": 316
        },
        "id": "7cUUpSmGtpwW",
        "outputId": "ba4169a6-fefa-4023-da78-7bf1970ea258"
      },
      "execution_count": 81,
      "outputs": [
        {
          "output_type": "display_data",
          "data": {
            "text/plain": [
              "<Figure size 432x288 with 1 Axes>"
            ],
            "image/png": "[encoded data removed]"
          },
          "metadata": {
            "needs_background": "light"
          }
        }
      ]
    },
    {
      "cell_type": "markdown",
      "source": [
        "# **Prediction**"
      ],
      "metadata": {
        "id": "cCacnXh33S5q"
      }
    },
    {
      "cell_type": "code",
      "source": [
        "# Input Message\n",
        "input_message = [\"Go until jurong point, crazy.. Available only in bugis n great world la e buffet... Cine there got amore wat...\"]\n",
        "\n",
        "# Transform input message into numerical features\n",
        "input_message_vectorizer = vectorizer.transform(input_message)\n",
        "\n",
        "# Predict the input message\n",
        "prediction = model.predict(input_message_vectorizer)\n",
        "\n",
        "if prediction == 'spam':\n",
        "  print(color.BOLD + color.RED + \"📧 This message is \"  + prediction[0] + color.END)\n",
        "else:\n",
        "  print(color.BOLD + color.GREEN + \"📧 This message is \"  + prediction[0] + color.END)"
      ],
      "metadata": {
        "colab": {
          "base_uri": "https://localhost:8080/"
        },
        "id": "zIcAvOkh3UHi",
        "outputId": "1207900a-b48e-4e89-8f8d-ea1c7b32dbba"
      },
      "execution_count": 82,
      "outputs": [
        {
          "output_type": "stream",
          "name": "stdout",
          "text": [
            "\u001b[1m\u001b[92m📧 This message is ham\u001b[0m\n"
          ]
        }
      ]
    },
    {
      "cell_type": "markdown",
      "source": [
        "# <center>**Thank You!**<center/>"
      ],
      "metadata": {
        "id": "JRlMhvbJbfMN"
      }
    }
  ]
}
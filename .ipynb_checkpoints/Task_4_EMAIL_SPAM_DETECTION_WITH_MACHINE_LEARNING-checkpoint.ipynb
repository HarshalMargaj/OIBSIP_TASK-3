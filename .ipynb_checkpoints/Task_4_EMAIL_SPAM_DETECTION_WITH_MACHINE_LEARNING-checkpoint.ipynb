{
 "cells": [
  {
   "cell_type": "markdown",
   "metadata": {
    "id": "uvjFoYtIZ37y"
   },
   "source": [
    "![1642532597169.jpeg](data:image/jpeg;base64,/9j/4AAQSkZJRgABAQAAAQABAAD/2wBDAAMCAgMCAgMDAwMEAwMEBQgFBQQEBQoHBwYIDAoMDAsKCwsNDhIQDQ4RDgsLEBYQERMUFRUVDA8XGBYUGBIUFRT/2wBDAQMEBAUEBQkFBQkUDQsNFBQUFBQUFBQUFBQUFBQUFBQUFBQUFBQUFBQUFBQUFBQUFBQUFBQUFBQUFBQUFBQUFBT/wgARCADIAMgDASIAAhEBAxEB/8QAHAABAAIDAQEBAAAAAAAAAAAAAAQGAwUHAggB/8QAGgEBAAMBAQEAAAAAAAAAAAAAAAECAwQFBv/aAAwDAQACEAMQAAAB+fx9T4AAAAAAAAAAAAAAAAAkEdfrVtzcXdwrqOYtlrcukIkAAAAAAAeyf0vQTu3m3mmqW8rn0nxy/U2z6vy3psPS3G02F5/eEAAAAAAE+BuLrHW1o6M5+piVuKrfuauYddBtGd/NVvdEmQwsAAAAAAnQUrDO/ap1PV+gaSa5NdktNJk5cP52oNL3+g4JDAAAAAAABPmaTc72k6qNYrM+fWbPptIj4K5DDjPPzCAAAAAAAACbCWnZNatPryZ1AAAAAAAAS4kuJ+hK9Yq953ZpdhZdZaMG55z3Cs8ruVNyWjLxf6T+bN8g6cAAAAAABLIjqlQz0rTouKHP3T8EObr7nlzt0/mFqheoAAAAACZDF6lc7ZaXnPz9MdO1FIRNpxVtavSObgF6gAAAAAAAAAAAAAAAAAAAAAAAAAAAAAAAAAAAAAAAAAf/xAAoEAACAgIBAwMEAwEAAAAAAAADBAIFAQYAERITFDBABxUhUBYxYHD/2gAIAQEAAQUC/wAoBcjM1NX7uC1xCOJa7Xyi3qY+OV50ZfCRRk6UWF6wOXsiFnaYZlGee2UuGjE0Laq9HL4EI5nLyxrQhFFXD1kazJW0xFWHNgbgRcrFo3/WDRwSDi+VWPfTngM1R4TGyyWyPWoQRha3XALkaJSrTEuxct9+GGWiWquBr+/WC7zvtZaLXJ4UhaWnXi682SKLDRFY2vfiA5EzTrdMWf5T98JvECrX65sXvFEIZHIqCCYrCyyxxVSbUwLjWHHGIRsp9FfgRJhZTOZGImvhUb73mymnlmXkiDEfxjMuWhevwSseReuHjrYNdMKr+omZjwYALw47uFNgcCEyWfwUS4xicskJ1wounDndwhojwdjJ5fEKx5Rhc8cJvSzyUsyz+qUD6hrZtrxqdrtcg3Wn/TyrE1a78sB9b6bL4ytZXWxRQ10MJ6LrMDo6RtlrdGq/fUN6drZtT/ldrtcA0mn1j1Zqmm0TSd9UafVP2BakD9JjXTQjourUdwesvfPWaR+oTHgza2vIsGzXYFS7CulXuPwrKRxbXwCsWEK5fhKYdGF37WGocrAqJ++mTAm37Rcw7O8Wste2PYmLCysM1t44G8WaftXl/s95YxfE44I1I+wq+t/x7//EACQRAAIBBAICAQUAAAAAAAAAAAABAhESMDEDIQQiURNAQUJQ/9oACAEDAQE/Afspc8IkfJgxOusU/Y+nFKsheO9s4244tdih+0hty6RRIWGg1U1opiXbNiQ+sdS545Xe1dFFbYcdXFIj+KfBy7w2MsoWMt+RqmG9l7ey9lRuv8z/xAAmEQACAQMEAQMFAAAAAAAAAAABAgADERITIjAxITJBUSNAQlDB/9oACAECAQE/AfshSYzSadcSLjMix2zVHQjJkIfHAnlp6zivUZ7bEmIp7mi5ObSsLNwA2jHTXEQAUhc9xVL7mgFpWN24aZu/mD6jZHqL53GPUCcYJE1GtbiMTHZj6veZHPU9hKtg5Pcf8r/P8lA7fHCKgMD39pqCanxFbLh0xMAOoKYBmIirj+s//8QAOxAAAQIDBgIFCQcFAAAAAAAAAQIDAAQRBRITITFBIlFAYXGBkQYQFCMyM2Kh0UJQUnKSscEkYHDS8P/aAAgBAQAGPwL+1LjaSpXVFZh2nwojNor7VGPcU7FGKsOlJ5LzijqKD8Q06HdGSRqqAMkD5mC842pLY2pVUBLLClqOQqaQL2R38xSoBSTsYvt5sn5dBCRqYQw0nEfO0GZml3neZ27IDTYIRsgbxirurKU1SPihTYCGiOWcIbcdWoHXPaKDSClQqkwpvbboBc1I9kdcKmHz6w5kwEgZfZRFdXTqqCywfzLi4gVMOPJoHFZJvQpN9KafgEBGKsk9cNFP2OHoF46Jzi4n2Bp1xU+8OsFlo/mVAQiKJ71QWWMkbqG8USKwXj2JhfQHQNVUEYqttIw0HiOp5QEJ1ig71Rht5N/vFBkncxdSO084CRkBCuvoIPIRzUqPiOpi4g8H7xU5I5wGmxxcozNT5ko7+gto5awXD2CMNO+sfCNYS00OPYcozzWdT5iowVHfoRR3wTzjKC6rNSvNUmOrl0UA6xdIrGQpFSa/dbLWl9YTCrMkbLkcBlCc3G6k5Viz7a9FZlZtT5ZXgigI4vpDs9NJBk5BsvLvDKu38nuizrelGw2zOIuuJGyx/wAf0xbUy3Ktzc8w0nAbcFfxfQRMY/k5LNM3CFLDB4Rz1jyiWUJK0lFFEZiGJqy7NZtCddmCHQ4i9ln9B4xhT9iMSLKlD1qGiM+2vQGXdbiwqFWnI2nJYDyE5OOUIypFn2L6UzMzaXy8vBNQBxfWJdqda9MXaRK3Gml53dq/Lxi3LGR/TtEmZkkOq9n4a+HiYmHJC0m7OW0AFFbpRerXl2ROzFs26xOSno6k4eOVZ98eUSCtIUSiiSczAfkLbZkGnFH1RfKTXTSJ+WtS1GrQm3nUYN1y+aVH0P3SyhXsqWAfGLclyS041NCXlVlWQNV0Cu26BE084gpmWppDNDtwrqPlE1KMWWoXDdS+XVeMKkHJJU441wvPF4p4t7oH81i0UYC7QbalEzMugVClhRRTTqVEg/NSj0iHXVNuyylmoRQUcG+/yiZdtBvGUHcFhsKoHN1L7KU/VEnMpsui5nET79XDdp9YlS3Yr0yFyqHVTAUulSnPTLoDC1ZJSsE+MW4ELzmZ1LzWWqauf7CAFVFprfQXssl3UqF/tzHhE3gz0wuRWrhbK1XaflhU+uf9DW9xPMKZUohW92mR76RaZLxkWXZRMtLqUCSAkopW71JhmSTNqtB5LxcxikgITSl0Vz64sxKXFOYEolpVdjU/xSLNl0qq6yp0rFNKkUiUKbXwMOVbaUwUOahOegp/h/8A/8QAKhABAAIBBAAEBgIDAAAAAAAAAQARITFBUWFAcaHwEFCBkbHB0eFgcPH/2gAIAQEAAT8h/wAUBrW0OD2JvPrIP1JVDzbH5iR8np95awmmRfXwf4uKIBPUr+2fyMGBNorXMFZ9Y9wU4Gg/BCm+cgxM0z69fAi7aUEOIY93lgM6urqIjAtazzShGTii219R7M06/wB401rOg3YihYAUEo2GkYqshtcngKQ165FLOOdbdEXk2oNpaFE8joiGt6B+CEbfny84MGlXFGvr+ICwlWBPvL1FqtE7vB59/vwBba/dB9qlA3cys4nlx1EwM0DfohsWursHMxGvVt5cDb/AdRkthbXEqnl/sZW7tT6+AtZVR63CUsYefmNoTwbIGNr0mDnLbx5RDV99JoJNXQijXamsAzSoIA+h6+B2pjjljBbZM0pzSdqh1Y0IevLoiN7sO3bE+cT8DC3t4HMGf+E3wEEvs6vXEXJjWQABWAglVrX3jCI4JrHLwTuabpEBqp3w9WNXYTx8GNrrmZpg6eDDTj4U6ot3syiwWiTBl31liS5flYOtG02tqYAhVITsTme3cK6Y68sy6ikwOX2grTk012tb4EYNSI1ciu32Mt5F7iFPk8yqGjDkNGWLaYA69RxEhznugyGQL8ADpRsN6bgXLUQgOweJ7JUjpjrwxaYTgKFEIhWjtAZqE7d7ndPKC2ubI0imf6SvIsdjpoGwmOZVqdAyGhLWhFfHJBW0L12tgFTOfZv8pCax7pBMjNLX8kZTa7j0vuCqiHNmOtbuc40aSvG61xxxAHG5Uv8AuAyhddj3W5BWkHNYMACsN3NcOVNSrhnODscRWWVS40BOf4SjKv3uLDR4BO7PdAY7Nz9K0Xrt5jNCPek+/IJObbyloKSqqsmtTiHZYVKusKFtLappw8qacW1V7Yy1cdLm63LAYJT7J3x4y+0OGtpYNy30ZfH7ILDkf6f/AP/aAAwDAQACAAMAAAAQDDDDDDDDDDDDDDDDDGJCBDDDDDDDDDhOUxADDDDDDDSrG+LrDDDDDDDTDZikrDDDDDDDDHfvfhDDDDDDDDTwDDDDDDDDDDCxebeADDDDDDDFMOPCLDDDDDDDBCRyDjDDDDDDDDDDDDDDDDDDDDDDDDDDDDDDDDDDDDDDDDDDD//EACURAAICAgEDAwUAAAAAAAAAAAERACEwMUFRYXFAofBQscHR4f/aAAgBAwEBPxD0JIFmd08Qmix5gAZVifbXTrCmb6RBgAhWtQFhjAYRu3GGDHVEaEdXhNrhKQBFAlKsPMgDE8RtxMcEAQJQniCYc+09daUAhYMh93se1RCMC7pQyKnbW9wSBZdc/wAwAMqEF+faFhZFef1KmT8ajhsoepwAoubO8JBNnCQEGEyyefn4j7I+mf/EACcRAQACAgEDAwMFAAAAAAAAAAEAESExUTBBYaGx0UBxgVCRweHx/9oACAECAQE/EPoQXBALcRDWYiqejuAaN93iNZrzGyi2FU7gVT0AgErim3mFAFEzxKNLUHFx0EdkodrO89Fe3ABRUCk7dGmZyNKF9IcEIo3FVt6QiGmaRi3l6Nqan5wd16buKurZXitPrn8S3KWMN3owVjzCJZRXd04YxCVQAe106znoLRcSo8esECLOe2v38y9oF/y/vKNUUcXji+YJsPboJZU0vH9fBAgOqxivjxACOv4K+/rAgDs37/MAUPt+mf/EACkQAQABBAEDBAIDAAMAAAAAAAERACExQVFhcZFAgaHBsdFQ4fAQYHD/2gAIAQEAAT8Q/wCqa4aFg5XAdWkWSumKd3bwUWHYC7d7in0y6/5KsniAi9IQnhqYYI8R/Rh9GWlYLFuI5XRTdKQl8OXTgotqTCQcBg916xRzpgAjBYlSMCVcwLg7JoIVYKj3AAApdaFDdXCdnD6Feh5tqxUeAybXPT6cHvQxFJuT/wBa12tsO4umOe2D5ouUj3dCUHAzGUpagbQnuU+KkgnDCXsWwRjKUNQUDAGKD8xjkacFkntw/Xc9ArsXc4R7BLUcj5NnjrdvqkUSS26nry1uuqP6B+aChrm8cr9+KdFOSthtWinGcoiWyhG4ii1Q2yAtZTJTPIzKXZkNFEkrc7oby+4+gPSG2OOHi77UqHsvj+lFOQhjw++aBcup+5uOWsjdL3SeKlNZw6+V0HGqjCCbJ1HDq3+V4UIYF1a2dJJg/wAHmll1l3j6BpwMLIZPFvepyCJp7vZjzTGNeC6a7tTsfdcDa9KTKEMesyroOKcS0Gw/41UYZFtZ+3pRFUMXncfqg/BG0FKbKPwfr0MICWBsPta0xFMq6qDwD9E6FN0XAOf6qVCnr/Y/FOrZxjt9Hy1c6t3sL0NHT/hC5EfrPv0MAK+DsR8KcZKwOmLvzHmrAJSDj9lR1N4f4OtEXPXDlpCLssr9V1KgwHja6CkBzI4NHovOCCRc+KZeXvltSmAT8/8AvBSm5KmQ/tT1UuFwGewqaXa1rq9fRoCkTCUKIjcvNO/hIOiKZSFrItw0Ei+V1LUHZP8AFuLy4gcvmlnhFSQrKsBWVRVvUOIrZZCmWJiSkEw0zjSJzBDZg7g81AexIYxgFiXd26UrEWHQJMCojFpKNbbdrZAogrIgiW1dediIQSe1EBLzDhYAgBMEmLzSpBx5KFWA2boMege3lxA4fFB/uDJAkawUYRUS1OfFXWALkmIgLJEFTguKMAEN4uOJom8KAoYJo5FlM3aXeyW5EhEZo4X2SUWAJrAxUMkqQL11sZshDL7Uhj29ZH4WEOUioAQgiciABW0El5h/EreE5hWF9WWkNW4J/jm5eRwGk79arhmWfchN0MycF0QlvuxExT64dPAgJ0lCUmBikWqPxqNwABEjig66vaAI2eE0DE1C+g72TfSqWVblCeVpIC216Nqb2n13sAd4mDfoGwieLDBgu2GsmrRRSpeFqDwsxqT0k4GCVqVI3VNEIVEhAASA5E0zXzTBN4MJRY4mgaslFBAEoWEJiKUilOwkWx4AwCq0qAORF7uAGS0ATazSAkAlRESMSxF6lR65kkxEK0zH/j//2Q==)"
   ]
  },
  {
   "cell_type": "markdown",
   "metadata": {
    "id": "WYAl7FMWEXyh"
   },
   "source": [
    "### **Name :** <font color = #5a5a5a>Harshal Prakash Margaj<font/>\n",
    "### **Task 4 :** <font color = #5a5a5a>EMAIL SPAM DETECTION WITH MACHINE LEARNING<font/>\n",
    "### **Description :** <font color = #5a5a5a>We’ve all been the recipient of spam emails before. Spam mail, or junk mail, is a type of email that is sent to a massive number of users at one time, frequently containing cryptic messages, scams, or most dangerously, phishing content. In this Project, use Python to build an email spam detector. Then, use machine learning to train the spam detector to recognize and classify emails into spam and non-spam. Let’s get started! Download dataset from [here](https://www.kaggle.com/datasets/uciml/sms-spam-collection-dataset)<font/>"
   ]
  },
  {
   "cell_type": "markdown",
   "metadata": {
    "id": "InzEWmSmLsaZ"
   },
   "source": [
    "# **Importing Libraries**"
   ]
  },
  {
   "cell_type": "code",
   "execution_count": null,
   "metadata": {
    "id": "A_BU6c7LLVia",
    "scrolled": true
   },
   "outputs": [],
   "source": [
    "import numpy as np\n",
    "import pandas as pd\n",
    "import nltk\n",
    "from nltk.corpus import stopwords\n",
    "import string"
   ]
  },
  {
   "cell_type": "markdown",
   "metadata": {
    "id": "9F_Ak0XGkQIX"
   },
   "source": [
    "# **Load the dataset**"
   ]
  },
  {
   "cell_type": "code",
   "execution_count": null,
   "metadata": {
    "colab": {
     "base_uri": "https://localhost:8080/",
     "height": 228
    },
    "id": "BP40jkINM_t3",
    "outputId": "6dcf5ac7-4e73-4d3d-b683-1565dc217ad8"
   },
   "outputs": [],
   "source": [
    "df = pd.read_csv('spam.csv', encoding = \"ISO-8859-1\")\n",
    "df.head() # To see first five rows"
   ]
  },
  {
   "cell_type": "markdown",
   "metadata": {
    "id": "kPZttgf7D_Qs"
   },
   "source": [
    "### **<font color = #0E86D4>To see last five rows of the dataset<font/>**"
   ]
  },
  {
   "cell_type": "code",
   "execution_count": null,
   "metadata": {
    "colab": {
     "base_uri": "https://localhost:8080/",
     "height": 228
    },
    "id": "6WEcFjU-f_D5",
    "outputId": "74112f87-d8fb-49e8-b825-5cc3cb271bc1"
   },
   "outputs": [],
   "source": [
    "df.tail() "
   ]
  },
  {
   "cell_type": "markdown",
   "metadata": {
    "id": "mUzjv08LFRUP"
   },
   "source": [
    "### <font color = #0E86D4>**Let's check to see whether this dataset has any null values:**<font/>"
   ]
  },
  {
   "cell_type": "code",
   "execution_count": null,
   "metadata": {
    "colab": {
     "base_uri": "https://localhost:8080/"
    },
    "id": "slclmg48jvB4",
    "outputId": "de3728bd-0006-40d8-967e-fd687da48370"
   },
   "outputs": [],
   "source": [
    "df.isnull().sum()"
   ]
  },
  {
   "cell_type": "markdown",
   "metadata": {
    "id": "cbJqvZt3Fedg"
   },
   "source": [
    "### <font color = #0E86D4>**Remove Null values**<font/>"
   ]
  },
  {
   "cell_type": "code",
   "execution_count": null,
   "metadata": {
    "id": "e15oe-Mykql1"
   },
   "outputs": [],
   "source": [
    "df = df.drop(columns = ['Unnamed: 2', 'Unnamed: 3', 'Unnamed: 4'])"
   ]
  },
  {
   "cell_type": "markdown",
   "metadata": {
    "id": "GRVkEr0DFloM"
   },
   "source": [
    "### <font color = #0E86D4>**Rename Columns**<font/>"
   ]
  },
  {
   "cell_type": "code",
   "execution_count": null,
   "metadata": {
    "id": "JECO4YEDW1Bk"
   },
   "outputs": [],
   "source": [
    "df.columns = ['Category', 'Messages']"
   ]
  },
  {
   "cell_type": "code",
   "execution_count": null,
   "metadata": {
    "colab": {
     "base_uri": "https://localhost:8080/"
    },
    "id": "yn5HrFJD0wDJ",
    "outputId": "c7b2f766-ab21-4bab-cf7d-7892dd117aa4"
   },
   "outputs": [],
   "source": [
    "df.columns"
   ]
  },
  {
   "cell_type": "markdown",
   "metadata": {
    "id": "XfBq6VNbF7lA"
   },
   "source": [
    "### <font color = #0E86D4>**Let's check again to see whether this dataset has any null values:**<font/>"
   ]
  },
  {
   "cell_type": "code",
   "execution_count": null,
   "metadata": {
    "colab": {
     "base_uri": "https://localhost:8080/"
    },
    "id": "kL-ZWUhp0ge3",
    "outputId": "86dd2780-b55a-4412-f017-71d39b576e95"
   },
   "outputs": [],
   "source": [
    "df.isnull().sum()"
   ]
  },
  {
   "cell_type": "markdown",
   "metadata": {
    "id": "P0Xu9dBAF_5U"
   },
   "source": [
    "# **Split the dataset into training and testing**"
   ]
  },
  {
   "cell_type": "code",
   "execution_count": null,
   "metadata": {
    "id": "JqLYxz9BjuSZ"
   },
   "outputs": [],
   "source": [
    "from sklearn.model_selection import train_test_split\n",
    "\n",
    "x = df['Messages']\n",
    "y = df['Category']\n",
    "\n",
    "x_train, x_test, y_train, y_test = train_test_split(x, y, test_size = 0.2)"
   ]
  },
  {
   "cell_type": "markdown",
   "metadata": {
    "id": "MLegUJabcKQR"
   },
   "source": [
    "# **Feature Extraction**\n",
    "<font color = #5a5a5a>**Feature extraction refers to the process of transforming raw data into numerical features**<font/>"
   ]
  },
  {
   "cell_type": "code",
   "execution_count": null,
   "metadata": {
    "id": "R2EzkWbYvR5f"
   },
   "outputs": [],
   "source": [
    "def process_text(message):\n",
    "  no_punctuation = [char for char in message if char not in string.punctuation]\n",
    "  no_punctuation = ''.join(no_punctuation)\n",
    "  clean_words = [word for word in no_punctuation.split() if word.lower() not in stopwords.words('english')]\n",
    "  return clean_words"
   ]
  },
  {
   "cell_type": "markdown",
   "metadata": {
    "id": "T6_PE61OG1gz"
   },
   "source": [
    "<font color = #5a5a5a>**CountVectorizer convert a collection of text documents to a matrix of token counts**<font/>"
   ]
  },
  {
   "cell_type": "code",
   "execution_count": null,
   "metadata": {
    "id": "CfGkTcblsSWb"
   },
   "outputs": [],
   "source": [
    "from sklearn.feature_extraction.text import CountVectorizer\n",
    "\n",
    "vectorizer = CountVectorizer(analyzer = process_text)\n",
    "x_train = vectorizer.fit_transform(x_train)\n",
    "x_test = vectorizer.transform(x_test)"
   ]
  },
  {
   "cell_type": "markdown",
   "metadata": {
    "id": "P7tnIRzgHnam"
   },
   "source": [
    "# **Training Email Spam Detection Model**"
   ]
  },
  {
   "cell_type": "markdown",
   "metadata": {
    "id": "EnGrUa67cVq6"
   },
   "source": [
    "**<font color = #5a5a5a>To train the model I used Naive Bayes Classifier<font/>**"
   ]
  },
  {
   "cell_type": "code",
   "execution_count": null,
   "metadata": {
    "colab": {
     "base_uri": "https://localhost:8080/"
    },
    "id": "5fHZFjYrlS68",
    "outputId": "98c96aa7-d643-4bc8-8af3-736930530c96"
   },
   "outputs": [],
   "source": [
    "from sklearn.naive_bayes import MultinomialNB\n",
    "\n",
    "model = MultinomialNB()\n",
    "model.fit(x_train, y_train)\n",
    "predictions = model.predict(x_train)\n",
    "print(predictions)\n",
    "print(y_train.values)"
   ]
  },
  {
   "cell_type": "markdown",
   "metadata": {
    "id": "8ZcTGcUxIjnq"
   },
   "source": [
    "## <font color = #5a5a5a>**Evaluate the model on the training dataset**<font/>"
   ]
  },
  {
   "cell_type": "markdown",
   "metadata": {
    "id": "YDReUjoNI7t4"
   },
   "source": [
    "### <font color = #0E86D4>**Classification Report of training data**<font/>"
   ]
  },
  {
   "cell_type": "code",
   "execution_count": null,
   "metadata": {
    "colab": {
     "base_uri": "https://localhost:8080/"
    },
    "id": "8XYaRok2mjIT",
    "outputId": "55028ece-7a54-441c-9013-7fb1add1b846"
   },
   "outputs": [],
   "source": [
    "from sklearn.metrics import classification_report, accuracy_score, confusion_matrix\n",
    "\n",
    "pred = model.predict(x_train)\n",
    "print(classification_report(y_train, pred))"
   ]
  },
  {
   "cell_type": "markdown",
   "metadata": {
    "id": "0dmGdU4YJNg3"
   },
   "source": [
    "### <font color = #0E86D4>**Confusion Metrix of training data**<font/>"
   ]
  },
  {
   "cell_type": "code",
   "execution_count": null,
   "metadata": {
    "colab": {
     "base_uri": "https://localhost:8080/"
    },
    "id": "6mqsrfLVtq4s",
    "outputId": "ad9bdc47-be5f-403e-f170-9687fa468413"
   },
   "outputs": [],
   "source": [
    "print(confusion_matrix(y_train, pred)) "
   ]
  },
  {
   "cell_type": "markdown",
   "metadata": {
    "id": "Wx7h7m6dJ7S8"
   },
   "source": [
    "### <font color = #0E86D4>**Accuracy of training data**<font/>"
   ]
  },
  {
   "cell_type": "code",
   "execution_count": null,
   "metadata": {
    "colab": {
     "base_uri": "https://localhost:8080/"
    },
    "id": "GwKnWkYot-3u",
    "outputId": "6c1fd6da-bd41-4041-c531-28bdfc6bde50"
   },
   "outputs": [],
   "source": [
    "# Accuracy Score\n",
    "print(f\"Accuracy of training dataset is {round(accuracy_score(y_train, pred)* 100, 2)}\")"
   ]
  },
  {
   "cell_type": "markdown",
   "metadata": {
    "id": "HlxdI1JXsZJ6"
   },
   "source": [
    "### <font color = #0E86D4>**Plotting Actual and Predicted Category of training data**<font/>"
   ]
  },
  {
   "cell_type": "code",
   "execution_count": null,
   "metadata": {
    "colab": {
     "base_uri": "https://localhost:8080/",
     "height": 316
    },
    "id": "8mO2226hqbF6",
    "outputId": "c041fd01-617e-4b77-db89-2c1a1a20aa29"
   },
   "outputs": [],
   "source": [
    "from matplotlib import pyplot as plt\n",
    "plt.plot(y_train, pred)\n",
    "plt.xlabel('Actual')\n",
    "plt.ylabel('Predicted')\n",
    "plt.title('Actual vs Predicted')\n",
    "plt.grid()\n",
    "plt.show()"
   ]
  },
  {
   "cell_type": "markdown",
   "metadata": {
    "id": "09pZyKgqIwwG"
   },
   "source": [
    "## <font color = #5a5a5a>**Evaluate the model on the testing dataset**<font/>"
   ]
  },
  {
   "cell_type": "code",
   "execution_count": null,
   "metadata": {
    "colab": {
     "base_uri": "https://localhost:8080/"
    },
    "id": "beFQJZ7muajV",
    "outputId": "5b1a1873-26fb-41c1-fb37-63b3eddb2889"
   },
   "outputs": [],
   "source": [
    "predictions = model.predict(x_test)\n",
    "print(predictions)\n",
    "print(y_test.values)"
   ]
  },
  {
   "cell_type": "markdown",
   "metadata": {
    "id": "dV0TAQe5Kh-W"
   },
   "source": [
    "### <font color = #0E86D4>**Classification Report of testing data**<font/>"
   ]
  },
  {
   "cell_type": "code",
   "execution_count": null,
   "metadata": {
    "colab": {
     "base_uri": "https://localhost:8080/"
    },
    "id": "KcC3i2zJve7O",
    "outputId": "f94b63a7-22e0-45a9-d6cd-065205a8214d"
   },
   "outputs": [],
   "source": [
    "pred = model.predict(x_test)\n",
    "print(classification_report(y_test, pred))"
   ]
  },
  {
   "cell_type": "markdown",
   "metadata": {
    "id": "O7tosWsKKdcR"
   },
   "source": [
    "### <font color = #0E86D4>**Confusion Metrix of training data**<font/>"
   ]
  },
  {
   "cell_type": "code",
   "execution_count": null,
   "metadata": {
    "colab": {
     "base_uri": "https://localhost:8080/"
    },
    "id": "OQZ4_A6Xve7R",
    "outputId": "56f50977-546f-4be4-8450-6767d5ea25c6"
   },
   "outputs": [],
   "source": [
    "print(confusion_matrix(y_test, pred))"
   ]
  },
  {
   "cell_type": "markdown",
   "metadata": {
    "id": "Kuletfv_Kn_8"
   },
   "source": [
    "### <font color = #0E86D4>**Accuracy of training data**<font/>"
   ]
  },
  {
   "cell_type": "code",
   "execution_count": null,
   "metadata": {
    "colab": {
     "base_uri": "https://localhost:8080/"
    },
    "id": "JVB4OFq0ve7R",
    "outputId": "795dae12-cd3c-428e-abe9-b48949cd2a5e"
   },
   "outputs": [],
   "source": [
    "print(f\"Accuracy of testing dataset is {round(accuracy_score(y_test, pred)* 100, 2)}\")"
   ]
  },
  {
   "cell_type": "markdown",
   "metadata": {
    "id": "9SvI62vit-H4"
   },
   "source": [
    "### <font color = #0E86D4>**Plotting Actual and Predicted Category of testing data**<font/>"
   ]
  },
  {
   "cell_type": "code",
   "execution_count": null,
   "metadata": {
    "colab": {
     "base_uri": "https://localhost:8080/",
     "height": 316
    },
    "id": "7cUUpSmGtpwW",
    "outputId": "ba4169a6-fefa-4023-da78-7bf1970ea258"
   },
   "outputs": [],
   "source": [
    "from matplotlib import pyplot as plt\n",
    "plt.plot(y_test, pred)\n",
    "plt.xlabel('Actual')\n",
    "plt.ylabel('Predicted')\n",
    "plt.title('Actual vs Predicted')\n",
    "plt.grid()\n",
    "plt.show()"
   ]
  },
  {
   "cell_type": "markdown",
   "metadata": {
    "id": "cCacnXh33S5q"
   },
   "source": [
    "# Prediction\n",
    "\n",
    "## For better experience I have made GUI to show prediction\n"
   ]
  },
  {
   "cell_type": "code",
   "execution_count": null,
   "metadata": {
    "scrolled": true
   },
   "outputs": [],
   "source": [
    "from tkinter import *\n",
    "from tkmacosx import *"
   ]
  },
  {
   "cell_type": "code",
   "execution_count": null,
   "metadata": {
    "colab": {
     "base_uri": "https://localhost:8080/"
    },
    "id": "zIcAvOkh3UHi",
    "outputId": "1207900a-b48e-4e89-8f8d-ea1c7b32dbba",
    "scrolled": false
   },
   "outputs": [],
   "source": [
    "# Creating Window\n",
    "root = Tk()\n",
    "root.title(\"Email Spam Detection with Machine Learning\")\n",
    "root.geometry(\"850x380\")\n",
    "root.resizable(False, False)\n",
    "root.configure(padx=20, pady=130, bg=\"#FFFFF4\")\n",
    "\n",
    "# Prediction Function\n",
    "def prediction():\n",
    "    \n",
    "    # Input message\n",
    "    input_message = [str(input_text.get(1.0, END))]\n",
    "\n",
    "    # Transform input message into numerical features\n",
    "    input_message_vectorizer = vectorizer.transform(input_message)\n",
    "\n",
    "    # Predict the input message\n",
    "    prediction = model.predict(input_message_vectorizer)\n",
    "\n",
    "    if prediction == 'spam':\n",
    "        label = Label(root,\n",
    "                           text = f\"📧 This message is {prediction[0]}\",\n",
    "                           font = \"RobotoMono 22 bold\",\n",
    "                           fg = \"#E00000\",\n",
    "                           bg = \"#FFFFF4\",\n",
    "                           width = 100,\n",
    "                           wraplength = 450,\n",
    "                           justify = \"center\")\n",
    "\n",
    "        label.place(x = -350, y = 140)\n",
    "    else:\n",
    "        label = Label(root,\n",
    "                           text = f\"📧 This message is {prediction[0]}\",\n",
    "                           font = \"RobotoMono 22 bold\",\n",
    "                           fg = \"#00cc00\",\n",
    "                           bg = \"#FFFFF4\",\n",
    "                           width = 100,\n",
    "                           wraplength = 450,\n",
    "                           justify = \"center\")\n",
    "\n",
    "        label.place(x = -350, y = 140)\n",
    "        \n",
    "        \n",
    "\n",
    "# Label\n",
    "label = Label(root, \n",
    "             text = 'Email Spam Detector',\n",
    "             justify = 'center',\n",
    "             font = \"RobotoMono 50 bold\",\n",
    "             fg = 'white',\n",
    "             bg = '#4283f3',\n",
    "             width = 25,\n",
    "             height = 2\n",
    "             )\n",
    "\n",
    "label.place(x=-20, y=-130)\n",
    "\n",
    "# Input Message\n",
    "input_text = Text(root,\n",
    "                 width=76,\n",
    "                 height=5,\n",
    "                 pady=10,\n",
    "                 padx=10,\n",
    "                 font=(\"Halvetica\", 16),\n",
    "                 bg=\"#F7F7F7\",\n",
    "                 highlightbackground=\"grey\",\n",
    "                 bd=1)\n",
    "\n",
    "input_text.place(x=10, y=10)\n",
    "\n",
    "# Predict Button\n",
    "predict_button = Button(root,\n",
    "                          text=\"Predict\",\n",
    "                          command=prediction,\n",
    "                          padx=5,\n",
    "                          pady=5,\n",
    "                          font=\"Halvetica 16 bold\",\n",
    "                          bg=\"#4283f3\",\n",
    "                          fg=\"white\",\n",
    "                          activebackground=\"#4283f3\",\n",
    "                          activeforeground=\"white\",\n",
    "                          highlightbackground=\"#ffffff\")\n",
    "\n",
    "predict_button.place(x=350, y=180)\n",
    "\n",
    "root.mainloop()"
   ]
  },
  {
   "cell_type": "markdown",
   "metadata": {
    "id": "JRlMhvbJbfMN"
   },
   "source": [
    "# <center>**Thank You!**<center/>"
   ]
  }
 ],
 "metadata": {
  "colab": {
   "provenance": []
  },
  "kernelspec": {
   "display_name": "Python 3.9 (tensorflow)",
   "language": "python",
   "name": "tensorflow"
  },
  "language_info": {
   "codemirror_mode": {
    "name": "ipython",
    "version": 3
   },
   "file_extension": ".py",
   "mimetype": "text/x-python",
   "name": "python",
   "nbconvert_exporter": "python",
   "pygments_lexer": "ipython3",
   "version": "3.9.12"
  }
 },
 "nbformat": 4,
 "nbformat_minor": 1
}
